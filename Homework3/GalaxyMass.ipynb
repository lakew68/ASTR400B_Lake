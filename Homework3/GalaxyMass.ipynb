{
 "cells": [
  {
   "cell_type": "code",
   "execution_count": 42,
   "metadata": {
    "collapsed": true,
    "scrolled": true
   },
   "outputs": [],
   "source": [
    "from ReadFile import Read\n",
    "import numpy as np\n",
    "import astropy.units as u\n"
   ]
  },
  {
   "cell_type": "code",
   "execution_count": 41,
   "metadata": {
    "collapsed": true
   },
   "outputs": [],
   "source": [
    "def ComponentMass(filename, PartType):\n",
    "    # This returns the total mass of all particles of a given type in a given galaxy/data set\n",
    "    time, total, data = Read(filename)\n",
    "    newData = np.where(data['type'] == PartType) # Checks which data is of the correct Particle Type\n",
    "    mass = 0 # This variable will be the total mass of the galaxy so far\n",
    "    for massElement in data['m'][newData]:\n",
    "        mass += massElement # Adds particle mass to galaxy\n",
    "    return np.around(mass * 10 ** 10 * u.solMass, 3)\n",
    "\n",
    "def returnForTable(mass):\n",
    "    # This function returns the mass in the correct format for the homework\n",
    "    return \"{:.3E}\".format(mass)"
   ]
  },
  {
   "cell_type": "code",
   "execution_count": 39,
   "metadata": {},
   "outputs": [
    {
     "name": "stdout",
     "output_type": "stream",
     "text": [
      "1.975E+00\n",
      "7.500E-02\n",
      "1.001E-02\n",
      "1.921E+00\n",
      "1.200E-01\n",
      "1.905E-02\n",
      "1.866E-01\n",
      "9.300E-03\n",
      "0.000E+00\n"
     ]
    }
   ],
   "source": [
    "print(returnForTable(ComponentMass('MW_000.txt', 1) / (u.solMass * 10 ** 12)))\n",
    "print(returnForTable(ComponentMass('MW_000.txt', 2) / (u.solMass * 10 ** 12)))\n",
    "print(returnForTable(ComponentMass('MW_000.txt', 3) / (u.solMass * 10 ** 12)))\n",
    "print(returnForTable(ComponentMass('M31_000.txt', 1) / (u.solMass * 10 ** 12)))\n",
    "print(returnForTable(ComponentMass('M31_000.txt', 2) / (u.solMass * 10 ** 12)))\n",
    "print(returnForTable(ComponentMass('M31_000.txt', 3) / (u.solMass * 10 ** 12)))\n",
    "print(returnForTable(ComponentMass('M33_000.txt', 1) / (u.solMass * 10 ** 12)))\n",
    "print(returnForTable(ComponentMass('M33_000.txt', 2) / (u.solMass * 10 ** 12)))\n",
    "print(returnForTable(ComponentMass('M33_000.txt', 3) / (u.solMass * 10 ** 12)))"
   ]
  },
  {
   "cell_type": "code",
   "execution_count": null,
   "metadata": {
    "collapsed": true
   },
   "outputs": [],
   "source": []
  }
 ],
 "metadata": {
  "kernelspec": {
   "display_name": "Python 3",
   "language": "python",
   "name": "python3"
  },
  "language_info": {
   "codemirror_mode": {
    "name": "ipython",
    "version": 3
   },
   "file_extension": ".py",
   "mimetype": "text/x-python",
   "name": "python",
   "nbconvert_exporter": "python",
   "pygments_lexer": "ipython3",
   "version": "3.6.1"
  }
 },
 "nbformat": 4,
 "nbformat_minor": 2
}
