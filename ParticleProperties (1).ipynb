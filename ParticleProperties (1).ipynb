{
 "cells": [
  {
   "cell_type": "code",
   "execution_count": 17,
   "metadata": {},
   "outputs": [],
   "source": [
    "import numpy as np\n",
    "import astropy.units as u\n",
    "import math"
   ]
  },
  {
   "cell_type": "code",
   "execution_count": 3,
   "metadata": {
    "collapsed": true
   },
   "outputs": [],
   "source": [
    "def Read(filename):\n",
    "    # Reads the data from a file\n",
    "    file = open(filename, 'r') # Opens file\n",
    "    line1 = file.readline()\n",
    "    label, value = line1.split()\n",
    "    time = float(value) * 10.0 * u.Myr ## This is the timestep the file represents\n",
    "    line2 = file.readline()\n",
    "    label2, value2 = line2.split()\n",
    "    total = float(value2) # This is the total number of data points in the file\n",
    "    file.close()\n",
    "    data = np.genfromtxt(filename, dtype = None, names = True, skip_header = 3) # The nonheader data\n",
    "    return time, total, data"
   ]
  },
  {
   "cell_type": "code",
   "execution_count": 72,
   "metadata": {},
   "outputs": [],
   "source": [
    "def ParticleInfo(num, PartType):\n",
    "    # This function gets the data about the numth particle of PartType in my data file\n",
    "    time, total, data = Read(\"MW_000.txt\"); # Calls the above function\n",
    "    newData = np.where(data['type'] == PartType) # Checks which data is of the correct Particle Type\n",
    "    xnew = data['x'][newData] # The following three lines describe the x, y, z of the particles of the correct type\n",
    "    ynew = data['y'][newData]\n",
    "    znew = data['z'][newData]\n",
    "    distance = math.sqrt(xnew[num - 1] ** 2 + ynew[num - 1] ** 2 + znew[num - 1] ** 2) * u.kpc # Gets distance to particle\n",
    "    vxnew = data['vx'][newData]\n",
    "    vynew = data['vy'][newData]\n",
    "    vznew = data['vz'][newData]\n",
    "    velocity = math.sqrt(vxnew[num - 1] ** 2 + vynew[num - 1] ** 2 + vznew[num - 1] ** 2) * u.km / u.s # Gets particle velocity\n",
    "    mnew = data['m'][newData]\n",
    "    mass = mnew[num - 1] * 10 ** 10 * u.solMass # Gets particle mass\n",
    "    return distance, velocity, mass"
   ]
  },
  {
   "cell_type": "code",
   "execution_count": 73,
   "metadata": {},
   "outputs": [
    {
     "name": "stdout",
     "output_type": "stream",
     "text": [
      "The distance of the 100th disk particle is 13844.842 lyr\n",
      "Its velocity is 312.135 km / s\n",
      "Its mass is 1000000.0 solMass\n"
     ]
    }
   ],
   "source": [
    "(distance, velocity, mass) = ParticleInfo(100, 2.0);\n",
    "print(\"The distance of the 100th disk particle is\", np.around(distance.to(u.lyr), 3))\n",
    "print(\"Its velocity is\", np.around(velocity, 3))\n",
    "print(\"Its mass is\", np.around(mass, 3))"
   ]
  },
  {
   "cell_type": "code",
   "execution_count": null,
   "metadata": {
    "collapsed": true
   },
   "outputs": [],
   "source": []
  }
 ],
 "metadata": {
  "kernelspec": {
   "display_name": "Python 3",
   "language": "python",
   "name": "python3"
  },
  "language_info": {
   "codemirror_mode": {
    "name": "ipython",
    "version": 3
   },
   "file_extension": ".py",
   "mimetype": "text/x-python",
   "name": "python",
   "nbconvert_exporter": "python",
   "pygments_lexer": "ipython3",
   "version": "3.6.1"
  }
 },
 "nbformat": 4,
 "nbformat_minor": 2
}
