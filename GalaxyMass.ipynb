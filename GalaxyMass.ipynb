{
 "cells": [
  {
   "cell_type": "code",
   "execution_count": 22,
   "metadata": {
    "scrolled": true
   },
   "outputs": [],
   "source": [
    "# from ReadFile import Read is what I would write here, but my Python installation will not let me \n",
    "# import functions from any self-made file and I have no idea why. Internet troubleshooting hasn't helped. \n",
    "# Please don't take points off for me copy-pasting the needed functions this week\n",
    "\n",
    "\n",
    "import numpy as np\n",
    "import astropy.units as u\n",
    "\n",
    "def Read(filename):\n",
    "    # Reads the data from a file\n",
    "    file = open(filename, 'r') # Opens file\n",
    "    line1 = file.readline()\n",
    "    label, value = line1.split()\n",
    "    time = float(value) * 10.0 * u.Myr ## This is the timestep the file represents\n",
    "    line2 = file.readline()\n",
    "    label2, value2 = line2.split()\n",
    "    total = float(value2) # This is the total number of data points in the file\n",
    "    file.close()\n",
    "    data = np.genfromtxt(filename, dtype = None, names = True, skip_header = 3) # The nonheader data\n",
    "    return time, total, data\n"
   ]
  },
  {
   "cell_type": "code",
   "execution_count": 27,
   "metadata": {},
   "outputs": [],
   "source": [
    "def ComponentMass(filename, PartType):\n",
    "    # This returns the total mass of all particles of a given type in a given galaxy/data set\n",
    "    time, total, data = Read(filename)\n",
    "    newData = np.where(data['type'] == PartType) # Checks which data is of the correct Particle Type\n",
    "    mass = 0 # This variable will be the total mass of the galaxy so far\n",
    "    for massElement in data['m'][newData]:\n",
    "        mass += massElement # Adds particle mass to galaxy\n",
    "    return np.around(mass * 10 ** 10 * u.solMass, 3)"
   ]
  },
  {
   "cell_type": "code",
   "execution_count": 29,
   "metadata": {},
   "outputs": [
    {
     "name": "stdout",
     "output_type": "stream",
     "text": [
      "1974924999999.181 solMass\n",
      "74999999999.959 solMass\n",
      "10005000000.001 solMass\n",
      "1920880000000.121 solMass\n",
      "119999999999.854 solMass\n",
      "19049969999.998 solMass\n",
      "186612999999.985 solMass\n",
      "9299999999.999 solMass\n",
      "0.0 solMass\n"
     ]
    }
   ],
   "source": [
    "print(ComponentMass('MW_000.txt', 1))\n",
    "print(ComponentMass('MW_000.txt', 2))\n",
    "print(ComponentMass('MW_000.txt', 3))\n",
    "print(ComponentMass('M31_000.txt', 1))\n",
    "print(ComponentMass('M31_000.txt', 2))\n",
    "print(ComponentMass('M31_000.txt', 3))\n",
    "print(ComponentMass('M33_000.txt', 1))\n",
    "print(ComponentMass('M33_000.txt', 2))\n",
    "print(ComponentMass('M33_000.txt', 3))"
   ]
  },
  {
   "cell_type": "code",
   "execution_count": null,
   "metadata": {
    "collapsed": true
   },
   "outputs": [],
   "source": []
  }
 ],
 "metadata": {
  "kernelspec": {
   "display_name": "Python 3",
   "language": "python",
   "name": "python3"
  },
  "language_info": {
   "codemirror_mode": {
    "name": "ipython",
    "version": 3
   },
   "file_extension": ".py",
   "mimetype": "text/x-python",
   "name": "python",
   "nbconvert_exporter": "python",
   "pygments_lexer": "ipython3",
   "version": "3.6.1"
  }
 },
 "nbformat": 4,
 "nbformat_minor": 2
}
