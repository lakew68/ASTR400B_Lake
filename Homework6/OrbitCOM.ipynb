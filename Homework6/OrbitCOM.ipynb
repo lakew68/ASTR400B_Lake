{
 "cells": [
  {
   "cell_type": "code",
   "execution_count": null,
   "metadata": {},
   "outputs": [],
   "source": [
    "import numpy as np\n",
    "from ReadFile import Read\n",
    "from CenterOfMass import CenterOfMass\n",
    "import astropy.units as v # This notation change was necessary... who knows why. The code doesn't work without it.\n",
    "\n",
    "def OrbitCOM(galaxy, start, end, n):\n",
    "    \n",
    "    # This function takes the name of a galaxy, as well as start and end SnapNumbers, and an interval n, and creates a file describing its center of mass orbital parameters over time\n",
    "    \n",
    "    fileout = \"Orbit_\" + galaxy + \".txt\"\n",
    "    Orbit = np.zeros((int((end - start) / n) + 1, 7))\n",
    "    delta = 0.5\n",
    "    VolDec = 4.0\n",
    "    index = 0\n",
    "    for i in np.arange(start, end + 1, n):\n",
    "        \n",
    "        # The following three lines create the part of the filename that describe the Snap number, and then generate the filename\n",
    "        ilbl = '000' + str(i)\n",
    "        ilbl = ilbl[-3:]\n",
    "        filename = \"VLowRes/%s_\"%(galaxy) + ilbl + '.txt'\n",
    "        print(filename)\n",
    "        # The following line reads the data at the desired SnapNumber\n",
    "        time, total, data = Read(filename)\n",
    "        \n",
    "        # We determine the COM position of disk particles, as we did last week:\n",
    "        COM_Object = CenterOfMass(filename, 2)\n",
    "        X_COM, Y_COM, Z_COM = COM_Object.COM_P(delta, VolDec)\n",
    "        VX_COM, VY_COM, VZ_COM = COM_Object.COM_V(X_COM, Y_COM, Z_COM)\n",
    "        \n",
    "        Orbit[index][0] = \"%.2f\"%(time / 1000.0 / v.Myr) # This sets the snap time in the array of output data\n",
    "        \n",
    "        Orbit[index][1] = \"%.2f\"%(X_COM / v.kpc) # X Position of the center of mass\n",
    "        Orbit[index][2] = \"%.2f\"%(Y_COM / v.kpc) # X Position of the center of mass\n",
    "        Orbit[index][3] = \"%.2f\"%(Z_COM / v.kpc) # X Position of the center of mass\n",
    "        \n",
    "        Orbit[index][4] = \"%.2f\"%(VX_COM / (v.km / v.s)) # X Velocity of the center of mass\n",
    "        Orbit[index][5] = \"%.2f\"%(VY_COM / (v.km / v.s)) # Y Velocity of the center of mass\n",
    "        Orbit[index][6] = \"%.2f\"%(VZ_COM / (v.km / v.s)) # Z Velocity of the center of mass\n",
    "        \n",
    "        index += 1 # iterates the index of the output array. This should be faster than the given code, which would take 2 operations per loop to calculate\n",
    "        print(i)\n",
    "    \n",
    "    np.savetxt(fileout, Orbit, header = 't x y z vx vy vz', comments = '#', fmt=['%.2f','%.2f','%.2f','%.2f','%.2f','%.2f','%.2f'])\n",
    "    # This saves the output to a new file\n",
    "    \n",
    "    return 0\n",
    "\n",
    "OrbitCOM(\"MW\", 0, 800, 5)\n",
    "OrbitCOM(\"M31\", 0, 800, 5)\n",
    "OrbitCOM(\"M33\", 0, 800, 5)\n",
    "\n"
   ]
  },
  {
   "cell_type": "code",
   "execution_count": null,
   "metadata": {
    "collapsed": true
   },
   "outputs": [],
   "source": []
  }
 ],
 "metadata": {
  "kernelspec": {
   "display_name": "Python 3",
   "language": "python",
   "name": "python3"
  },
  "language_info": {
   "codemirror_mode": {
    "name": "ipython",
    "version": 3
   },
   "file_extension": ".py",
   "mimetype": "text/x-python",
   "name": "python",
   "nbconvert_exporter": "python",
   "pygments_lexer": "ipython3",
   "version": "3.6.1"
  }
 },
 "nbformat": 4,
 "nbformat_minor": 2
}
