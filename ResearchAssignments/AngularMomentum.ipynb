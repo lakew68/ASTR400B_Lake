{
 "cells": [
  {
   "cell_type": "code",
   "execution_count": 2,
   "metadata": {
    "collapsed": true
   },
   "outputs": [],
   "source": [
    "import numpy as np\n",
    "import astropy.units as u\n",
    "from ReadFile import Read"
   ]
  },
  {
   "cell_type": "code",
   "execution_count": null,
   "metadata": {
    "collapsed": true
   },
   "outputs": [],
   "source": [
    "for snap in range(0, 800, 10):\n",
    "    ilbl = '000' + str(snap)\n",
    "    ilbl = ilbl[-3:]\n",
    "    self.filename = \"%s_\"%(galaxy) + ilbl + '.txt'\n",
    "    time, total, data = Read(self.filename) # Read the data\n",
    "    x = np.array(data['x']) * u.kpc # Import the x, y, and z coordinates with correct units\n",
    "    y = np.array(data['y']) * u.kpc\n",
    "    z = np.array(data['z']) * u.kpc\n",
    "    vx = np.array(data['vx']) * u.km / u.s\n",
    "    vy = np.array(data['vy']) * u.km / u.s\n",
    "    vz = np.array(data['vz']) * u.km / u.s\n",
    "    m = np.array(data['m']) * u.Msun # Import the mass data\n",
    "    \n",
    "    # Make arrays of (x-XCOM,y-YCOM,z-ZCOM) and (vx-VXCOM, vy-VYCOM, vz-VZCOM) and cross them to get the angular momentum,\n",
    "    # Sum it over the particles as a vector array\n",
    "    # Track it over time\n",
    "    # Simultaneously, bin the particles into 1-5 kpc (maybe bigger) radial bins, and track the distribution over radius of the avg.\n",
    "    # Angular momentum per particle\n",
    "    # At the same time, for each snap, calculate the velocity dispersion and plot it over time"
   ]
  }
 ],
 "metadata": {
  "kernelspec": {
   "display_name": "Python 3",
   "language": "python",
   "name": "python3"
  },
  "language_info": {
   "codemirror_mode": {
    "name": "ipython",
    "version": 3
   },
   "file_extension": ".py",
   "mimetype": "text/x-python",
   "name": "python",
   "nbconvert_exporter": "python",
   "pygments_lexer": "ipython3",
   "version": "3.6.1"
  }
 },
 "nbformat": 4,
 "nbformat_minor": 2
}
