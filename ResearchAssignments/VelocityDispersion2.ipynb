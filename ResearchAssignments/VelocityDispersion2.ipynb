{
 "cells": [
  {
   "cell_type": "code",
   "execution_count": 7,
   "metadata": {
    "collapsed": true
   },
   "outputs": [],
   "source": [
    "# Project Piece 1\n",
    "# Velocity dispersion\n",
    "# William Lake\n",
    "\n",
    "# import modules                                                                                                       \n",
    "import numpy as np\n",
    "import astropy.units as u\n",
    "from ReadFile import Read\n",
    "from CenterOfMass2 import CenterOfMass\n",
    "import math\n",
    "from matplotlib.pyplot import *\n",
    "%matplotlib inline\n",
    "from astropy.constants import G\n",
    "G = G.to(u.kpc * u.km ** 2 / u.s ** 2 / u.Msun) # Converts the gravitational constant to our desired units"
   ]
  },
  {
   "cell_type": "code",
   "execution_count": 12,
   "metadata": {
    "collapsed": true
   },
   "outputs": [],
   "source": [
    "class VelocityDispersion2:\n",
    "    '''This class aids in finding the velocity dispersions of bulge particles over radius. It will eventually\n",
    "    do the same over time, held at constant radius'''\n",
    "    \n",
    "    def __init__(self, galaxy, galaxy2, snap):\n",
    "        # This function/class takes the galaxy name and snapshot number as inputs\n",
    "        \n",
    "        # The following three lines create the part of the filename that describe the Snap number, and then generate the filename\n",
    "        ilbl = '000' + str(snap)\n",
    "        ilbl = ilbl[-3:]\n",
    "        self.filename = \"%s_\"%(galaxy) + ilbl + '.txt'\n",
    "        time, total, data = Read(self.filename) # Read the data\n",
    "        self.filename2 = \"%s_\"%(galaxy2) + ilbl + '.txt'\n",
    "        time2, total2, data2 = Read(self.filename2) # Read the data\n",
    "        \n",
    "        x = np.array(data['x'])\n",
    "        x = np.append(x, np.array(data2['x']))\n",
    "        self.x = x * u.kpc # Import the x, y, and z coordinates with correct units\n",
    "        y = np.array(data['y'])\n",
    "        y = np.append(y, np.array(data2['y']))\n",
    "        self.y = y * u.kpc\n",
    "        z = np.array(data['z'])\n",
    "        z = np.append(z, np.array(data2['z']))\n",
    "        self.z = z * u.kpc\n",
    "        \n",
    "        vx = np.array(data['vx']) # Import the vx, vy, and vz data with correct units\n",
    "        vx = np.append(vx, np.array(data2['vx']))\n",
    "        self.vx = vx * u.km / u.s \n",
    "        vy = np.array(data['vy'])\n",
    "        vy = np.append(vy, np.array(data2['vy']))\n",
    "        self.vy = vy * u.km / u.s\n",
    "        vz = np.array(data['vz'])\n",
    "        vz = np.append(vz, np.array(data2['vz']))\n",
    "        self.vz = vz * u.km / u.s\n",
    "        \n",
    "        m = np.array(data['m'])\n",
    "        self.m1 = np.sum(m)\n",
    "        self.m2 = np.sum(data2['m'])\n",
    "        m = np.append(m, np.array(data2['m']))\n",
    "        self.m = m # Import the mass data\n",
    "        self.data = np.append(data, data2)\n",
    "        self.gname = galaxy # Stores galaxy name\n",
    "        self.gname2 = galaxy2\n",
    "        \n",
    "    def distance(self, x1, x2, y1, y2, z1, z2):\n",
    "        # This function describes the absolute distance between points (x1,y1,z1) and (x2, y2, z2)\n",
    "        return np.sqrt(((x1 - x2) ** 2 + (y1 - y2) ** 2 + (z1 - z2) ** 2))\n",
    "    \n",
    "    def dispersion(self, vArray, VX_COM, VY_COM, VZ_COM):\n",
    "        # This function finds the velocity dispersion of an array vArray of 3-D velocities (contained within a formatted data set)\n",
    "        bulgeIndices = np.where(vArray['type'] == 3)\n",
    "        \n",
    "        corr_vArray = []\n",
    "        bulgeVArray = vArray[bulgeIndices]\n",
    "        \n",
    "        for i in range(np.shape(bulgeVArray)[0]):\n",
    "            corr_vArray.append(self.distance(bulgeVArray['vx'][i] * u.km / u.s, VX_COM, bulgeVArray['vy'][i] * u.km / u.s, VY_COM, bulgeVArray['vz'][i] * u.km / u.s, VZ_COM).value)\n",
    "            \n",
    "        disp = np.std(corr_vArray)\n",
    "        return disp\n",
    "        \n",
    "    def CumDispersion(self, rArray):\n",
    "        # Takes as input an array of radii\n",
    "        # Returns the cumulative velocity dispersion within the stars enclosed\n",
    "        COM_Object = CenterOfMass(self.filename, 2)\n",
    "        COM_Object2 = CenterOfMass(self.filename2, 2)\n",
    "        \n",
    "        VX_COM, VY_COM, VZ_COM = COM_Object.COM_V(1.0)\n",
    "        X_COM, Y_COM, Z_COM = COM_Object.COM_P(1.0) # Finds the center of mass coordinates of the galaxy\n",
    "        \n",
    "        VX_COM2, VY_COM2, VZ_COM2 = COM_Object2.COM_V(1.0)\n",
    "        X_COM2, Y_COM2, Z_COM2 = COM_Object2.COM_P(1.0) # Finds the center of mass coordinates of the galaxy\n",
    "        \n",
    "        X_COM = (X_COM * self.m1 + X_COM2 * self.m2) / (self.m1 + self.m2) # Finds the center of mass coordinates for the remnant\n",
    "        Y_COM = (Y_COM * self.m1 + Y_COM2 * self.m2) / (self.m1 + self.m2)\n",
    "        Z_COM = (Z_COM * self.m1 + Z_COM2 * self.m2) / (self.m1 + self.m2)\n",
    "        \n",
    "        typeIndex = np.where(self.data['type'] == 3) # Selects bulge particles\n",
    "        \n",
    "        radii = self.distance(self.x, X_COM, self.y, Y_COM, self.z, Z_COM)[typeIndex]\n",
    "        # Creates an array to hold distances of particles from the COM\n",
    "        dispersions = np.zeros(len(rArray)) # Creates our result array\n",
    "        \n",
    "        for index in range(len(rArray)):\n",
    "            # Loops over rArray to find enclosed dispersion\n",
    "            indices = np.where(radii < rArray[index])\n",
    "            dispersions[index] = self.dispersion((self.data[typeIndex])[indices], VX_COM, VY_COM, VZ_COM)\n",
    "            print(rArray[index])\n",
    "        \n",
    "        return dispersions\n"
   ]
  },
  {
   "cell_type": "code",
   "execution_count": 14,
   "metadata": {},
   "outputs": [
    {
     "name": "stdout",
     "output_type": "stream",
     "text": [
      "30.0 kpc\n",
      "27.27272727272727 kpc\n",
      "24.79338842975206 kpc\n",
      "22.539444027047324 kpc\n",
      "20.49040366095211 kpc\n",
      "18.627639691774647 kpc\n",
      "16.934217901613312 kpc\n",
      "15.394743546921191 kpc\n",
      "13.995221406291991 kpc\n",
      "12.722928551174537 kpc\n",
      "11.566298682885941 kpc\n",
      "10.514816984441763 kpc\n",
      "9.558924531310693 kpc\n",
      "8.689931392100629 kpc\n",
      "7.899937629182389 kpc\n",
      "7.181761481074899 kpc\n",
      "6.528874073704453 kpc\n",
      "5.935340067004048 kpc\n",
      "5.395763697276407 kpc\n",
      "4.905239724796733 kpc\n",
      "4.459308840724302 kpc\n",
      "4.053917127931183 kpc\n",
      "3.685379207210166 kpc\n",
      "3.3503447338274235 kpc\n",
      "3.045767939843112 kpc\n",
      "2.7688799453119195 kpc\n",
      "2.5171635866471993 kpc\n",
      "2.2883305333156354 kpc\n",
      "2.080300484832396 kpc\n",
      "1.8911822589385414 kpc\n",
      "1.7192565990350375 kpc\n",
      "1.5629605445773067 kpc\n",
      "1.420873222343006 kpc\n",
      "1.2917029294027327 kpc\n",
      "1.1742753903661205 kpc\n",
      "1.0675230821510187 kpc\n",
      "0.9704755292281987 kpc\n",
      "0.8822504811165441 kpc\n",
      "0.802045891924131 kpc\n",
      "0.7291326290219372 kpc\n",
      "0.6628478445653974 kpc\n",
      "0.6025889496049066 kpc\n",
      "0.5478081360044605 kpc\n",
      "0.49800739636769137 kpc\n",
      "0.4527339966979012 kpc\n",
      "0.41157636063445563 kpc\n",
      "[ 111.91379191  111.99295886  112.16483477  112.29470613  112.47665158\n",
      "  112.68246015  112.94104583  113.04493165  113.11865383  113.35046492\n",
      "  113.49646723  113.90358716  114.07825171  114.51800918  114.98748618\n",
      "  115.67028029  115.87717113  116.14724961  116.07743297  116.32825988\n",
      "  116.28351468  116.39018408  116.34087562  116.29434265  116.53438429\n",
      "  116.69486224  117.24501279  117.59025051  117.86184996  117.54980689\n",
      "  117.4131596   116.71317583  116.43730705  116.48375276  117.1411418\n",
      "  118.30290419  118.55024578  121.04927669  121.93015499  120.80598977\n",
      "  121.09871146  124.89343563  127.28266738  128.75210039  122.4507011\n",
      "  130.88810367]\n"
     ]
    },
    {
     "data": {
      "text/plain": [
       "[<matplotlib.lines.Line2D at 0x16e712112b0>]"
      ]
     },
     "execution_count": 14,
     "metadata": {},
     "output_type": "execute_result"
    },
    {
     "data": {
      "image/png": "[encoded data removed]",
      "text/plain": [
       "<matplotlib.figure.Figure at 0x16e712222b0>"
      ]
     },
     "metadata": {},
     "output_type": "display_data"
    }
   ],
   "source": [
    "MWDisp = VelocityDispersion2('MW', 'M31', 800)\n",
    "\n",
    "radiusArray = []\n",
    "i = 30\n",
    "while i > .4:\n",
    "    radiusArray.append(i)\n",
    "    i /= 1.1\n",
    "radiusArray = np.array(radiusArray) * u.kpc\n",
    "\n",
    "dispersion = MWDisp.CumDispersion(radiusArray)\n",
    "print(dispersion)\n",
    "semilogy(radiusArray, dispersion,'b', label = 'Merger Remnant Cumulative Bulge Dispersion')\n"
   ]
  },
  {
   "cell_type": "code",
   "execution_count": 18,
   "metadata": {},
   "outputs": [
    {
     "data": {
      "text/plain": [
       "[<matplotlib.lines.Line2D at 0x16e72ed6e80>]"
      ]
     },
     "execution_count": 18,
     "metadata": {},
     "output_type": "execute_result"
    },
    {
     "data": {
      "image/png": "[encoded data removed]",
      "text/plain": [
       "<matplotlib.figure.Figure at 0x16e73288d68>"
      ]
     },
     "metadata": {},
     "output_type": "display_data"
    }
   ],
   "source": [
    "plot(radiusArray, dispersion,'b', label = 'Merger Remnant Cumulative Bulge Dispersion')\n"
   ]
  },
  {
   "cell_type": "code",
   "execution_count": null,
   "metadata": {
    "collapsed": true
   },
   "outputs": [],
   "source": []
  }
 ],
 "metadata": {
  "kernelspec": {
   "display_name": "Python 3",
   "language": "python",
   "name": "python3"
  },
  "language_info": {
   "codemirror_mode": {
    "name": "ipython",
    "version": 3
   },
   "file_extension": ".py",
   "mimetype": "text/x-python",
   "name": "python",
   "nbconvert_exporter": "python",
   "pygments_lexer": "ipython3",
   "version": "3.6.1"
  }
 },
 "nbformat": 4,
 "nbformat_minor": 2
}
