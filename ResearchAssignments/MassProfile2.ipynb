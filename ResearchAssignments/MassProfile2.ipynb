{
 "cells": [
  {
   "cell_type": "code",
   "execution_count": 4,
   "metadata": {},
   "outputs": [],
   "source": [
    "# Research Project - Remnant bulge profile                                                                                                         \n",
    "# Rotation Curves   \n",
    "# William Lake\n",
    "\n",
    "# import modules                                                                                                       \n",
    "import numpy as np\n",
    "import astropy.units as u\n",
    "from ReadFile import Read\n",
    "from CenterOfMass2 import CenterOfMass\n",
    "import math\n",
    "from matplotlib.pyplot import *\n",
    "%matplotlib inline\n",
    "from astropy.constants import G\n",
    "G = G.to(u.kpc * u.km ** 2 / u.s ** 2 / u.Msun) # Converts the gravitational constant to our desired units"
   ]
  },
  {
   "cell_type": "code",
   "execution_count": 57,
   "metadata": {},
   "outputs": [],
   "source": [
    "class MassProfile2:\n",
    "    \n",
    "    def __init__(self, galaxy, galaxy2, snap):\n",
    "        # This function/class takes the galaxy name and snapshot number as inputs\n",
    "        \n",
    "        # The following three lines create the part of the filename that describe the Snap number, and then generate the filename\n",
    "        ilbl = '000' + str(snap)\n",
    "        ilbl = ilbl[-3:]\n",
    "        self.filename = \"%s_\"%(galaxy) + ilbl + '.txt'\n",
    "        time, total, data = Read(self.filename) # Read the data\n",
    "        self.filename2 = \"%s_\"%(galaxy2) + ilbl + '.txt'\n",
    "        time2, total2, data2 = Read(self.filename2) # Read the data\n",
    "        x = np.array(data['x'])\n",
    "        x = np.append(x, np.array(data2['x']))\n",
    "        self.x = x * u.kpc # Import the x, y, and z coordinates with correct units\n",
    "        y = np.array(data['y'])\n",
    "        y = np.append(y, np.array(data2['y']))\n",
    "        self.y = y * u.kpc\n",
    "        z = np.array(data['z'])\n",
    "        z = np.append(z, np.array(data2['z']))\n",
    "        self.z = z * u.kpc\n",
    "        m = np.array(data['m'])\n",
    "        self.m1 = np.sum(m)\n",
    "        self.m2 = np.sum(data2['m'])\n",
    "        m = np.append(m, np.array(data2['m']))\n",
    "        self.m = m # Import the mass data\n",
    "        self.data = np.append(data, data2) # Wasn't asked for but useful later\n",
    "        self.gname = galaxy # Stores galaxy name\n",
    "        self.gname2 = galaxy2\n",
    "        \n",
    "    def distance(self, x1, x2, y1, y2, z1, z2):\n",
    "        # This function describes the absolute distance between points (x1,y1,z1) and (x2, y2, z2)\n",
    "        return np.sqrt(((x1 - x2) ** 2 + (y1 - y2) ** 2 + (z1 - z2) ** 2))\n",
    "    \n",
    "    def MassEnclosed(self, pType, rArray):\n",
    "        # Takes as input the particle type and an array of radii\n",
    "        # Returns the enclosed mass of that type of particle in the galaxy from each radius\n",
    "        \n",
    "        # First, we determine the COM position, as we did last week:\n",
    "        COM_Object = CenterOfMass(self.filename, 2)\n",
    "        X_COM, Y_COM, Z_COM = COM_Object.COM_P(1.0) * u.kpc # Finds the center of mass coordinates of the first galaxy\n",
    "        \n",
    "        COM_Object2 = CenterOfMass(self.filename2, 2)\n",
    "        X_COM2, Y_COM2, Z_COM2 = COM_Object2.COM_P(1.0) * u.kpc\n",
    "        \n",
    "        X_COM = (X_COM * self.m1 + X_COM2 * self.m2) / (self.m1 + self.m2) # Finds the center of mass coordinates for the remnant\n",
    "        Y_COM = (Y_COM * self.m1 + Y_COM2 * self.m2) / (self.m1 + self.m2)\n",
    "        Z_COM = (Z_COM * self.m1 + Z_COM2 * self.m2) / (self.m1 + self.m2)\n",
    "        \n",
    "        typeIndex = np.where(self.data['type'] == 3)\n",
    "        \n",
    "        Radii = self.distance(self.x[typeIndex], X_COM, self.y[typeIndex], Y_COM, self.z[typeIndex], Z_COM) \n",
    "        # Creates an array to hold distances of particles from the COM\n",
    "        self.m = self.m[typeIndex]\n",
    "        \n",
    "        masses = np.zeros(len(rArray)) # Creates our result array\n",
    "        \n",
    "        for index in range(len(rArray)):\n",
    "            # Loops over rArray to find enclosed mass\n",
    "            indices = np.where(Radii < rArray[index])\n",
    "            masses[index] = sum(self.m[indices])\n",
    "            \n",
    "        return masses * u.Msun * 10 ** 10\n",
    "    \n",
    "    def MassEnclosedTotal(self, rArray):\n",
    "        # Takes as input an array of radii\n",
    "        # Returns the enclosed mass in the galaxy from each radius\n",
    "        masses = np.zeros(len(rArray)) # Creates our result array\n",
    "        for i in range(3):\n",
    "            if(self.gname != 'M33' or i < 2):\n",
    "                masses += self.MassEnclosed(i+1, rArray) # This adds the contributions of a given particle type to the total mass\n",
    "                \n",
    "        return masses * u.Msun\n",
    "\n",
    "    def HernquistMass(self, radius, a, mHalo):\n",
    "        # This function takes as input the radius, scale factor a, and Halo mass, and returns the enclosed mass in units M_sun\n",
    "        return mHalo * (radius ** 2) / (a + radius) ** 2\n",
    "    \n",
    "    def CircularVelocity(self, pType, rArray):\n",
    "        # Takes as input the particle type and an array of radii\n",
    "        # Returns the velocity of a particle in circular orbit at each radius, due to the mass enclosed of type pType\n",
    "        # The formula for this is based on a force balance, GM/r^2 = v^2 / r, v=Sqrt(GM/r)\n",
    "        mass = self.MassEnclosed(pType, rArray)\n",
    "        return np.around(np.sqrt(G * np.divide(mass, rArray)), decimals=2)\n",
    "    \n",
    "    def CircularVelocityTotal(self, rArray):\n",
    "        # Takes as input an array of radii\n",
    "        # Returns the velocity of a particle in circular orbit at each radius, due to the mass enclosed\n",
    "        # The formula for this is based on a force balance, GM/r^2 = v^2 / r, v=Sqrt(GM/r)\n",
    "        mass = self.MassEnclosedTotal(rArray)\n",
    "        return np.around(np.sqrt(G * np.divide(mass, rArray)), decimals=2)\n",
    "    \n",
    "    def HernquistVCirc(self, radius, a, mHalo):\n",
    "        # This function takes as input the radius, scale factor a, and Halo mass, and returns the Hernquist circular velocity\n",
    "        mass = self.HernquistMass(radius, a, mHalo)\n",
    "        return np.around(np.sqrt(G * np.divide(mass, radius)), decimals=2)"
   ]
  },
  {
   "cell_type": "code",
   "execution_count": 58,
   "metadata": {
    "scrolled": false
   },
   "outputs": [
    {
     "name": "stdout",
     "output_type": "stream",
     "text": [
      "25744666079.998714 solMass\n"
     ]
    },
    {
     "data": {
      "text/plain": [
       "Text(0.5,1,'Radius vs Enclosed Mass, Merger Remnant')"
      ]
     },
     "execution_count": 58,
     "metadata": {},
     "output_type": "execute_result"
    },
    {
     "data": {
      "image/png": "[encoded data removed]",
      "text/plain": [
       "<matplotlib.figure.Figure at 0x1720622a908>"
      ]
     },
     "metadata": {},
     "output_type": "display_data"
    }
   ],
   "source": [
    "mp = MassProfile2('MW', 'M31', 800)\n",
    "\n",
    "# This next block generates an array of radii to use in this plot\n",
    "radiusArray = []\n",
    "i = 30\n",
    "while i > .1:\n",
    "    radiusArray.append(i)\n",
    "    i /= 1.1\n",
    "radiusArray = np.array(radiusArray) * u.kpc\n",
    "\n",
    "Bulge = mp.MassEnclosed(3,radiusArray) # Array describing enclosed bulge type masses in the remnant\n",
    "\n",
    "print(Bulge[0])\n",
    "\n",
    "fig = figure(figsize=(8,8))\n",
    "semilogy(radiusArray, Bulge,'g', label = 'Remnant Bulge Mass Enclosed')\n",
    "\n",
    "\n",
    "legend()\n",
    "xlabel('Radius (kpc)')\n",
    "ylabel('Mass Enclosed (Solar Masses)')\n",
    "title('Radius vs Enclosed Mass, Merger Remnant')\n",
    "\n"
   ]
  },
  {
   "cell_type": "code",
   "execution_count": null,
   "metadata": {
    "collapsed": true
   },
   "outputs": [],
   "source": []
  },
  {
   "cell_type": "code",
   "execution_count": null,
   "metadata": {
    "collapsed": true
   },
   "outputs": [],
   "source": []
  }
 ],
 "metadata": {
  "kernelspec": {
   "display_name": "Python 3",
   "language": "python",
   "name": "python3"
  },
  "language_info": {
   "codemirror_mode": {
    "name": "ipython",
    "version": 3
   },
   "file_extension": ".py",
   "mimetype": "text/x-python",
   "name": "python",
   "nbconvert_exporter": "python",
   "pygments_lexer": "ipython3",
   "version": "3.6.1"
  }
 },
 "nbformat": 4,
 "nbformat_minor": 2
}
