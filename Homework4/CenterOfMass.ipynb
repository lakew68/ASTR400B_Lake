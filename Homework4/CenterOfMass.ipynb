{
 "cells": [
  {
   "cell_type": "code",
   "execution_count": 25,
   "metadata": {
    "collapsed": true
   },
   "outputs": [],
   "source": [
    "# Homework 4                                                                                                           \n",
    "# Center of Mass Position and Velocity                                                                                 \n",
    "\n",
    "# import modules                                                                                                       \n",
    "import numpy as np\n",
    "import astropy.units as u\n",
    "from ReadFile import Read\n",
    "import math"
   ]
  },
  {
   "cell_type": "code",
   "execution_count": 114,
   "metadata": {},
   "outputs": [],
   "source": [
    "class CenterOfMass:\n",
    "\n",
    "    def __init__(self, filename, ptype):\n",
    "        # read in the file and particle type                                                                           \n",
    "        self.time, self.total, self.data = Read(filename)\n",
    "\n",
    "        #create an array to store indexes of particles of desired Ptype                                                \n",
    "        self.index = np.where(self.data['type'] == ptype)\n",
    "\n",
    "        # store the mass, positions, velocities of only the particles of the given type                                \n",
    "        self.m = self.data['m'][self.index]\n",
    "\n",
    "        ##### PLACE other particle properties here: x,y,z,vx,vy,vz ##### \n",
    "        self.x = self.data['x'][self.index]\n",
    "        self.y = self.data['y'][self.index]\n",
    "        self.z = self.data['z'][self.index]\n",
    "        self.vx = self.data['vx'][self.index]\n",
    "        self.vy = self.data['vy'][self.index]\n",
    "        self.vz = self.data['vz'][self.index]\n",
    "\n",
    "    def total_mass(self):\n",
    "        #Note: you can add other keyword arguments into the function, but 'self' must be first                         \n",
    "        return np.sum(self.m)*u.Msun*1e10\n",
    "    \n",
    "     ##### PLACE OTHER FUNCTIONS BELOW #####\n",
    "        \n",
    "    def COMdefine(self, xComps, yComps, zComps, mComps):\n",
    "        # Takes the x, y, z, and m components of the particles in a galaxy and returns its center of mass or velocity\n",
    "        resultX = 0 # Initializes the result variables in x, y, and z\n",
    "        resultY = 0\n",
    "        resultZ = 0\n",
    "        for i in range(len(xComps)):\n",
    "            resultX += xComps[i] * mComps[i] * u.Msun * 1e10\n",
    "            resultY += yComps[i] * mComps[i] * u.Msun * 1e10\n",
    "            resultZ += zComps[i] * mComps[i] * u.Msun * 1e10\n",
    "        resultX /= (np.sum(mComps) * u.Msun * 1e10)\n",
    "        resultY /= (np.sum(mComps) * u.Msun * 1e10)\n",
    "        resultZ /= (np.sum(mComps) * u.Msun * 1e10)\n",
    "        return resultX, resultY, resultZ # Returns the center of mass components\n",
    "    \n",
    "    def COM_P(self, delta):\n",
    "        XCOM, YCOM, ZCOM = self.COMdefine(self.x, self.y, self.z, self.m) #Our initial guess for the center of mass of the galaxy\n",
    "        RCOM = math.sqrt(XCOM ** 2 + YCOM ** 2 + ZCOM ** 2) # The magnitude of this position vector\n",
    "        RNEW = [] # Initializes an array which will be populated with COM-particle vector distance magnitudes\n",
    "        RMAX = 0 # This variable will describe the largest vector magnitude in RNEW\n",
    "        for i in range(len(self.x)):\n",
    "            # This loop populates RNEW and finds RMAX as described\n",
    "            mag = self.distance(self.x[i], XCOM, self.y[i], YCOM, self.z[i], ZCOM)\n",
    "            RNEW.append(mag)\n",
    "            RMAX = mag if mag > RMAX else RMAX\n",
    "        RMAX /= 2.0\n",
    "        RCOM2 = 1000\n",
    "        while abs(RCOM - RCOM2) > delta:\n",
    "            indices = []\n",
    "            for i in range(len(RNEW)):\n",
    "                if RNEW[i] < RMAX:\n",
    "                    indices.append(i) # This finds the indices within our new, smaller galaxy volume to refine the COM\n",
    "            XCOM2, YCOM2, ZCOM2 = self.COMdefine(self.x[indices], self.y[indices], self.z[indices], self.m[indices])\n",
    "            RCOM2 = math.sqrt(XCOM ** 2 + YCOM ** 2 + ZCOM ** 2) # The magnitude of this new COM position vector\n",
    "            RNEW = []\n",
    "            for i in range(len(self.x)):\n",
    "                # This loop populates RNEW\n",
    "                mag = self.distance(self.x[i], XCOM2, self.y[i], YCOM2, self.z[i], ZCOM2)\n",
    "                RNEW.append(mag)\n",
    "            RMAX /= 2.0\n",
    "        return XCOM2, YCOM2, ZCOM2\n",
    "    \n",
    "    def COM_V(self, XCOM, YCOM, ZCOM):\n",
    "        RNEW = []\n",
    "        for i in range(len(self.x)):\n",
    "            # This loop populates RNEW, the distances between each particle and the Galactic center of mass\n",
    "            mag = self.distance(self.x[i], XCOM, self.y[i], YCOM, self.z[i], ZCOM)\n",
    "            RNEW.append(mag)\n",
    "        indices = []\n",
    "        for i in range(len(RNEW)):\n",
    "            if RNEW[i] < 15:\n",
    "                indices.append(i) # This finds the particles within 15 kpc of the galactic COM\n",
    "        return self.COMdefine(self.vx[indices], self.vy[indices], self.vz[indices], self.m[indices]) #This finds the COM velocity\n",
    "    \n",
    "    def distance(self, x1, x2, y1, y2, z1, z2):\n",
    "        # This function describes the absolute distance between points (x1,y1,z1) and (x2, y2, z2)\n",
    "        return math.sqrt((x1 - x2) ** 2 + (y1 - y2) ** 2 + (z1 - z2) ** 2)\n",
    "   "
   ]
  },
  {
   "cell_type": "code",
   "execution_count": 115,
   "metadata": {
    "collapsed": true
   },
   "outputs": [],
   "source": [
    "# EXAMPLE OF USING A CLASS                                                                                             \n",
    "##########################                                                                                             \n",
    "\n",
    "# Create a Center of mass object for the MW                                                                            \n",
    "MWCOM = CenterOfMass(\"MW_000.txt\", 2)"
   ]
  },
  {
   "cell_type": "code",
   "execution_count": 110,
   "metadata": {},
   "outputs": [
    {
     "name": "stdout",
     "output_type": "stream",
     "text": [
      "MW Disk Mass:  75000000000.00003 solMass\n"
     ]
    }
   ],
   "source": [
    "# Calculate quantities for MW data                                                                                     \n",
    "MW_mass = MWCOM.total_mass()\n",
    "print(\"MW Disk Mass: \", MW_mass)"
   ]
  },
  {
   "cell_type": "code",
   "execution_count": 116,
   "metadata": {},
   "outputs": [
    {
     "name": "stdout",
     "output_type": "stream",
     "text": [
      "Question 1: \n",
      "MW Center of Mass: ( -1.312E+00  kpc,  2.520E+00  kpc,  -1.427E+00  kpc)\n",
      "M31 Center of Mass: ( -3.777E+02  kpc,  6.114E+02  kpc,  -2.846E+02  kpc)\n",
      "M33 Center of Mass: ( -4.762E+02  kpc,  4.914E+02  kpc,  -4.124E+02  kpc)\n"
     ]
    }
   ],
   "source": [
    "print(\"Question 1: \")\n",
    "def returnForHW(num):\n",
    "    # This function returns the number given in a nice format for the homework\n",
    "    return \"{:.3E}\".format(num)\n",
    "MWXCOM, MWYCOM, MWZCOM = MWCOM.COM_P(1)\n",
    "print(\"MW Center of Mass: (\", returnForHW(MWXCOM), \" kpc, \", returnForHW(MWYCOM), \" kpc, \", returnForHW(MWZCOM), \" kpc)\")\n",
    "M31COM = CenterOfMass(\"M31_000.txt\", 2)\n",
    "M33COM = CenterOfMass(\"M33_000.txt\", 2)\n",
    "M31XCOM, M31YCOM, M31ZCOM = M31COM.COM_P(1)\n",
    "M33XCOM, M33YCOM, M33ZCOM = M33COM.COM_P(1)\n",
    "print(\"M31 Center of Mass: (\", returnForHW(M31XCOM), \" kpc, \", returnForHW(M31YCOM), \" kpc, \", returnForHW(M31ZCOM), \" kpc)\")\n",
    "print(\"M33 Center of Mass: (\", returnForHW(M33XCOM), \" kpc, \", returnForHW(M33YCOM), \" kpc, \", returnForHW(M33ZCOM), \" kpc)\")"
   ]
  },
  {
   "cell_type": "code",
   "execution_count": 112,
   "metadata": {},
   "outputs": [
    {
     "name": "stdout",
     "output_type": "stream",
     "text": [
      "Question 2: \n",
      "The distance between the centers of mass of the Milky Way and M31 is:  7.698E+02  kpc.\n",
      "Their relative velocities are:  1.172E+02  km/s.\n"
     ]
    }
   ],
   "source": [
    "print(\"Question 2: \")\n",
    "MWVXCOM, MWVYCOM, MWVZCOM = MWCOM.COM_V(MWXCOM, MWYCOM, MWZCOM) # Finds the Milky Way COM Velocity\n",
    "M31VXCOM, M31VYCOM, M31VZCOM = M31COM.COM_V(M31XCOM, M31YCOM, M31ZCOM) # Finds the M31 COM Velocity\n",
    "M33VXCOM, M33VYCOM, M33VZCOM = M33COM.COM_V(M33XCOM, M33YCOM, M33ZCOM) # Finds the M33 COM Velocity\n",
    "print(\"The distance between the centers of mass of the Milky Way and M31 is: \", returnForHW(MWCOM.distance(MWXCOM, M31XCOM, MWYCOM, M31YCOM, MWZCOM, M31ZCOM)), \" kpc.\")\n",
    "print(\"Their relative velocities are: \", returnForHW(MWCOM.distance(MWVXCOM, M31VXCOM, MWVYCOM, M31VYCOM, MWVZCOM, M31VZCOM)), \" km/s.\")"
   ]
  },
  {
   "cell_type": "code",
   "execution_count": 118,
   "metadata": {},
   "outputs": [
    {
     "name": "stdout",
     "output_type": "stream",
     "text": [
      "Question 3: \n",
      "The distance between the centers of mass of M33 and M31 is:  2.011E+02 kpc.\n",
      "Their relative velocities are:  199.36249797882314  km/s.\n"
     ]
    }
   ],
   "source": [
    "print(\"Question 3: \")\n",
    "print(\"The distance between the centers of mass of M33 and M31 is: \", returnForHW(MWCOM.distance(M33XCOM, M31XCOM, M33YCOM, M31YCOM, M33ZCOM, M31ZCOM)), \"kpc.\")\n",
    "print(\"Their relative velocities are: \", MWCOM.distance(M33VXCOM, M31VXCOM, M33VYCOM, M31VYCOM, M33VZCOM, M31VZCOM), \" km/s.\")"
   ]
  },
  {
   "cell_type": "markdown",
   "metadata": {},
   "source": [
    "Question 4:\n",
    "M31 and the Milky Way merging will frequently cause ejections of particles from the system, among other issues. Particles that may be considered \"part\" of one or the other galaxy in the simulation may not be representative of the galactic dynamics, in ways that central particles will. Therefore, iteratively determining the galactic COM using more central particles (as we have done) provides a better representation of the galaxies' dynamics"
   ]
  }
 ],
 "metadata": {
  "kernelspec": {
   "display_name": "Python 3",
   "language": "python",
   "name": "python3"
  },
  "language_info": {
   "codemirror_mode": {
    "name": "ipython",
    "version": 3
   },
   "file_extension": ".py",
   "mimetype": "text/x-python",
   "name": "python",
   "nbconvert_exporter": "python",
   "pygments_lexer": "ipython3",
   "version": "3.6.1"
  }
 },
 "nbformat": 4,
 "nbformat_minor": 2
}
